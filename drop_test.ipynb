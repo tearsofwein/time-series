{
 "cells": [
  {
   "cell_type": "markdown",
   "metadata": {},
   "source": [
    "## test of dropout in pands"
   ]
  },
  {
   "cell_type": "code",
   "execution_count": 14,
   "metadata": {},
   "outputs": [],
   "source": [
    "import pandas as pd\n",
    "import numpy as np\n",
    " \n",
    "#Create a DataFrame\n",
    "d = {\n",
    "    'Name':['Alisa','Bobby','jodha','jack','raghu','Cathrine',\n",
    "            'Alisa','Bobby','kumar','Alisa','Alex','Cathrine'],\n",
    "        'aName':['Alisa','Bobby','jodha','jack','raghu','Cathrine',\n",
    "            'Alisa','Bobby','kumar','Alisa','Alex','Cathrine'],\n",
    "    'Age':[26,24,23,22,23,24,26,24,22,23,24,24],\n",
    "      \n",
    "       'Score':[85,63,55,74,31,77,85,63,42,62,89,77]}\n",
    " \n",
    "df = pd.DataFrame(d,columns=['Name','aName','Age','Score'])"
   ]
  },
  {
   "cell_type": "code",
   "execution_count": 15,
   "metadata": {},
   "outputs": [
    {
     "name": "stdout",
     "output_type": "stream",
     "text": [
      "        Name     aName  Age  Score\n",
      "0      Alisa     Alisa   26     85\n",
      "1      Bobby     Bobby   24     63\n",
      "2      jodha     jodha   23     55\n",
      "3       jack      jack   22     74\n",
      "4      raghu     raghu   23     31\n",
      "5   Cathrine  Cathrine   24     77\n",
      "6      Alisa     Alisa   26     85\n",
      "7      Bobby     Bobby   24     63\n",
      "8      kumar     kumar   22     42\n",
      "9      Alisa     Alisa   23     62\n",
      "10      Alex      Alex   24     89\n",
      "11  Cathrine  Cathrine   24     77\n"
     ]
    }
   ],
   "source": [
    "print( df )"
   ]
  },
  {
   "cell_type": "markdown",
   "metadata": {},
   "source": [
    "## if use code \n",
    "df1 = df.drop( df.columns[1,2] , axis = 1 )\n",
    "## there will be error: too many indices"
   ]
  },
  {
   "cell_type": "code",
   "execution_count": 16,
   "metadata": {},
   "outputs": [
    {
     "name": "stdout",
     "output_type": "stream",
     "text": [
      "        Name  Score\n",
      "0      Alisa     85\n",
      "1      Bobby     63\n",
      "2      jodha     55\n",
      "3       jack     74\n",
      "4      raghu     31\n",
      "5   Cathrine     77\n",
      "6      Alisa     85\n",
      "7      Bobby     63\n",
      "8      kumar     42\n",
      "9      Alisa     62\n",
      "10      Alex     89\n",
      "11  Cathrine     77\n"
     ]
    }
   ],
   "source": [
    "df1 = df.drop( df.columns[[1,2]] , axis = 1  )\n",
    "print(df1)"
   ]
  },
  {
   "cell_type": "code",
   "execution_count": null,
   "metadata": {},
   "outputs": [],
   "source": []
  },
  {
   "cell_type": "code",
   "execution_count": null,
   "metadata": {},
   "outputs": [],
   "source": []
  },
  {
   "cell_type": "code",
   "execution_count": null,
   "metadata": {},
   "outputs": [],
   "source": []
  },
  {
   "cell_type": "code",
   "execution_count": null,
   "metadata": {},
   "outputs": [],
   "source": []
  },
  {
   "cell_type": "code",
   "execution_count": null,
   "metadata": {},
   "outputs": [],
   "source": []
  },
  {
   "cell_type": "code",
   "execution_count": null,
   "metadata": {},
   "outputs": [],
   "source": []
  }
 ],
 "metadata": {
  "kernelspec": {
   "display_name": "Python 3",
   "language": "python",
   "name": "python3"
  },
  "language_info": {
   "codemirror_mode": {
    "name": "ipython",
    "version": 3
   },
   "file_extension": ".py",
   "mimetype": "text/x-python",
   "name": "python",
   "nbconvert_exporter": "python",
   "pygments_lexer": "ipython3",
   "version": "3.7.3"
  }
 },
 "nbformat": 4,
 "nbformat_minor": 4
}
